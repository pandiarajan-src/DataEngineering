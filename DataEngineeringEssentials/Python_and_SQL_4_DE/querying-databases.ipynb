{
 "cells": [
  {
   "cell_type": "markdown",
   "metadata": {},
   "source": [
    "## Querying databases\n",
    "We've already seen a couple of SQL queries when creating a database table and checking if data was present. Now we will go beyond those basics queries to do slightly more advanced queries, like searching and filtering."
   ]
  },
  {
   "cell_type": "code",
   "execution_count": 1,
   "metadata": {},
   "outputs": [],
   "source": [
    "# Work with an in-memory SQLite database again\n",
    "import sqlite3\n",
    "connection = sqlite3.connect(':memory:')"
   ]
  },
  {
   "cell_type": "code",
   "execution_count": 2,
   "metadata": {},
   "outputs": [],
   "source": [
    "# Create a table again for holding a path and size, just like before\n",
    "table = 'CREATE TABLE files (id integer primary key, path TEXT, bytes INTEGER)'\n",
    "cursor = connection.cursor()\n",
    "cursor.execute(table)\n",
    "connection.commit()"
   ]
  },
  {
   "cell_type": "markdown",
   "metadata": {},
   "source": [
    "There is a _large_files.py_ file that has a `files` variable which holds a list of tuples with some sample data we can use to populate the database. Import that module and use the list to iterate over it and then populate the database\n",
    "\n",
    "In this section you will use a special SQL syntax in SQLite to insert values from Python into the SQL query."
   ]
  },
  {
   "cell_type": "code",
   "execution_count": 5,
   "metadata": {},
   "outputs": [],
   "source": [
    "from large_files import files\n",
    "\n",
    "for metadata in files:\n",
    "    query = 'INSERT INTO files(path, bytes) VALUES(?, ?)'\n",
    "    # the execute() method accepts a query and optionally a tuple with values \n",
    "    # corresponding to the question marks in VALUES\n",
    "    cursor.execute(query, metadata)\n",
    "    connection.commit()\n"
   ]
  },
  {
   "cell_type": "markdown",
   "metadata": {},
   "source": [
    "So far we've seen `CREATE` and `INSERT`. Let's try a new SQL statement to make a selection. The `SELECT` statement produces a result from one or more tables and from one or many rows. \n",
    "\n",
    "Note the particular (and strict) order of SQL statements:\n",
    "\n",
    "- `SELECT`\n",
    "- `FROM`\n",
    "- `WHERE`\n",
    "- `GROUP BY`\n",
    "- `HAVING`\n",
    "- `ORDER BY`\n",
    "\n",
    "Since SQLite returns an iterator as a result always, then it is required to loop over the resulting object. Create a query to count the items in the `files` table. This query will use the `COUNT()` function that produces a number:"
   ]
  },
  {
   "cell_type": "code",
   "execution_count": 6,
   "metadata": {},
   "outputs": [
    {
     "name": "stdout",
     "output_type": "stream",
     "text": [
      "(13825,)\n"
     ]
    }
   ],
   "source": [
    "query = 'SELECT COUNT(id) from files'\n",
    "\n",
    "for i in cursor.execute(query):\n",
    "    print(i)"
   ]
  },
  {
   "cell_type": "markdown",
   "metadata": {},
   "source": [
    "## Extracting distinct row data\n",
    "Counting items is a good way of checking the amount of items that exist in the database. Without using `COUNT(id)` the previous query would've produced two thousand entries. Use the `LIMIT` statement to set the maximum number of entries that can be produced, then remove the `COUNT(id)` function and use `*` instead to use all rows"
   ]
  },
  {
   "cell_type": "code",
   "execution_count": 7,
   "metadata": {},
   "outputs": [
    {
     "name": "stdout",
     "output_type": "stream",
     "text": [
      "(1, '/Users/pandi/source/DataEngineering/file.txt', 6055)\n",
      "(2, '/Users/pandi/source/DataEngineering/.DS_Store', 8196)\n",
      "(3, '/Users/pandi/source/DataEngineering/README.md', 145)\n",
      "(4, '/Users/pandi/source/DataEngineering/.gitignore', 19)\n",
      "(5, '/Users/pandi/source/DataEngineering/test-sqllite3.db', 0)\n",
      "(6, '/Users/pandi/source/DataEngineering/DataEngineeringEssentials/py_env_setup.txt', 1529)\n",
      "(7, '/Users/pandi/source/DataEngineering/DataEngineeringEssentials/.DS_Store', 10244)\n",
      "(8, '/Users/pandi/source/DataEngineering/DataEngineeringEssentials/requirements.txt', 833)\n",
      "(9, '/Users/pandi/source/DataEngineering/DataEngineeringEssentials/ReadMe.md', 1593)\n",
      "(10, '/Users/pandi/source/DataEngineering/DataEngineeringEssentials/Python_and_Pandas_4_DE/.DS_Store', 6148)\n"
     ]
    }
   ],
   "source": [
    "query = 'SELECT * from files LIMIT(10)'\n",
    "for i in cursor.execute(query):\n",
    "    print(i)"
   ]
  },
  {
   "cell_type": "markdown",
   "metadata": {},
   "source": [
    "Using `*` means every row in the table. The table in this case is `files`. The next query specifies using the `id` row only. \n",
    "\n",
    "**Exercise:** Update the cell contents so that it shows paths instead."
   ]
  },
  {
   "cell_type": "code",
   "execution_count": 8,
   "metadata": {},
   "outputs": [
    {
     "name": "stdout",
     "output_type": "stream",
     "text": [
      "(1,)\n",
      "(2,)\n",
      "(3,)\n",
      "(4,)\n",
      "(5,)\n",
      "(6,)\n",
      "(7,)\n",
      "(8,)\n",
      "(9,)\n",
      "(10,)\n"
     ]
    }
   ],
   "source": [
    "query = 'SELECT id FROM files LIMIT(10)'\n",
    "for i in cursor.execute(query):\n",
    "    print(i)"
   ]
  },
  {
   "cell_type": "markdown",
   "metadata": {},
   "source": [
    "The next query uses ID and Bytes. Update the query once again to select two rows in the table: `bytes` and `path`."
   ]
  },
  {
   "cell_type": "code",
   "execution_count": 9,
   "metadata": {},
   "outputs": [
    {
     "name": "stdout",
     "output_type": "stream",
     "text": [
      "(1, 6055)\n",
      "(2, 8196)\n",
      "(3, 145)\n",
      "(4, 19)\n",
      "(5, 0)\n",
      "(6, 1529)\n",
      "(7, 10244)\n",
      "(8, 833)\n",
      "(9, 1593)\n",
      "(10, 6148)\n"
     ]
    }
   ],
   "source": [
    "query = 'SELECT id,bytes FROM files LIMIT(10)'\n",
    "for i in cursor.execute(query):\n",
    "    print(i)"
   ]
  },
  {
   "cell_type": "markdown",
   "metadata": {},
   "source": [
    "## Extracting distinct data\n",
    "You now know how to extract data from certain rows and how to limit that data. Next, we'll use more SQL statements to further find and filter out results so that you can get specific results.\n",
    "\n",
    "**Exercise:** Use the next query to find 10 files that are bigger than 1mb (1000000 bytes) using a new statement (`WHERE`):"
   ]
  },
  {
   "cell_type": "code",
   "execution_count": 10,
   "metadata": {},
   "outputs": [
    {
     "name": "stdout",
     "output_type": "stream",
     "text": [
      "('/Users/pandi/source/DataEngineering/DataEngineeringEssentials/Python_and_SQL_4_DE/sample_data/wine-ratings.csv',)\n",
      "('/Users/pandi/source/DataEngineering/DataEngineeringEssentials/.venv/lib/python3.13/site-packages/debugpy/_vendored/pydevd/_pydevd_sys_monitoring/_pydevd_sys_monitoring_cython.c',)\n",
      "('/Users/pandi/source/DataEngineering/DataEngineeringEssentials/.venv/lib/python3.13/site-packages/debugpy/_vendored/pydevd/_pydevd_bundle/pydevd_cython.cpython-313-darwin.so',)\n",
      "('/Users/pandi/source/DataEngineering/DataEngineeringEssentials/.venv/lib/python3.13/site-packages/debugpy/_vendored/pydevd/_pydevd_bundle/pydevd_cython.c',)\n",
      "('/Users/pandi/source/DataEngineering/DataEngineeringEssentials/.venv/lib/python3.13/site-packages/debugpy/_vendored/pydevd/_pydevd_frame_eval/pydevd_frame_evaluator.c',)\n",
      "('/Users/pandi/source/DataEngineering/DataEngineeringEssentials/.venv/lib/python3.13/site-packages/numpy/_core/_multiarray_umath.cpython-313-darwin.so',)\n",
      "('/Users/pandi/source/DataEngineering/DataEngineeringEssentials/.venv/lib/python3.13/site-packages/zmq/.dylibs/libzmq.5.dylib',)\n",
      "('/Users/pandi/source/DataEngineering/DataEngineeringEssentials/.venv/lib/python3.13/site-packages/pandas/_libs/join.cpython-313-darwin.so',)\n",
      "('/Users/pandi/source/DataEngineering/DataEngineeringEssentials/.venv/lib/python3.13/site-packages/pandas/_libs/interval.cpython-313-darwin.so',)\n",
      "('/Users/pandi/source/DataEngineering/DataEngineeringEssentials/.venv/lib/python3.13/site-packages/pandas/_libs/algos.cpython-313-darwin.so',)\n"
     ]
    }
   ],
   "source": [
    "query = 'SELECT path FROM files WHERE bytes>1000000 LIMIT(10)'\n",
    "for i in cursor.execute(query):\n",
    "    print(i)"
   ]
  },
  {
   "cell_type": "markdown",
   "metadata": {},
   "source": [
    "The query shows the paths but not the sizes. \n",
    "\n",
    "**Exercise:** Try updating the previous query to show both the path and the size. "
   ]
  },
  {
   "cell_type": "code",
   "execution_count": 11,
   "metadata": {},
   "outputs": [],
   "source": [
    "query = ''\n",
    "for i in cursor.execute(query):\n",
    "    print(i)"
   ]
  },
  {
   "cell_type": "markdown",
   "metadata": {},
   "source": [
    "SQL has many helper functions, in this case the next query uses `MAX()` which can find the highest value in a column. Do you think that `LIMIT(10)` makes sense in this query? Why? What happens if you remove the `LIMIT(10)` clause?\n",
    "\n",
    "**Exercise:** Remote the `LIMIT()` clause and check your results"
   ]
  },
  {
   "cell_type": "code",
   "execution_count": 12,
   "metadata": {},
   "outputs": [
    {
     "name": "stdout",
     "output_type": "stream",
     "text": [
      "('/Users/pandi/source/DataEngineering/DataEngineeringEssentials/Python_and_SQL_4_DE/sample_data/wine-ratings.csv', 13518834)\n"
     ]
    }
   ],
   "source": [
    "query = 'SELECT path,MAX(bytes) FROM files LIMIT(10)'\n",
    "for i in cursor.execute(query):\n",
    "    print(i)"
   ]
  },
  {
   "cell_type": "markdown",
   "metadata": {},
   "source": [
    "SQL queries can be compounded for more conditionals. In Python, you can make the query more readable by using triple quotes and adding the queries in a multi-line variable.\n",
    "\n",
    "**Exercise:** Use other conditions to match different sizes and limit to a different number of entries returned"
   ]
  },
  {
   "cell_type": "code",
   "execution_count": 13,
   "metadata": {},
   "outputs": [
    {
     "name": "stdout",
     "output_type": "stream",
     "text": [
      "('/Users/pandi/source/DataEngineering/DataEngineeringEssentials/.venv/lib/python3.13/site-packages/numpy/_core/_multiarray_umath.cpython-313-darwin.so', 3345784)\n",
      "('/Users/pandi/source/DataEngineering/DataEngineeringEssentials/.venv/lib/python3.13/site-packages/zmq/.dylibs/libzmq.5.dylib', 3329056)\n",
      "('/Users/pandi/source/DataEngineering/.git/objects/43/9af2970bfc159a6e2deb5c49a2099078c7a058', 3906409)\n"
     ]
    }
   ],
   "source": [
    "query = \"\"\"\n",
    "SELECT path,bytes FROM files \n",
    "    WHERE bytes>3000000 \n",
    "    AND bytes<4400000 LIMIT(100)\n",
    "\"\"\"\n",
    "for i in cursor.execute(query):\n",
    "    print(i)"
   ]
  },
  {
   "cell_type": "markdown",
   "metadata": {},
   "source": [
    "## Searching\n",
    "Sometimes you can't tell exactly what is it that you are looking for in a query. SQL allows for matching patterns. In the file paths situation, you might know that a specific file ends with `.zip` but you don't know where it is. \n",
    "\n",
    "**Exercise:** Use the `LIKE` operator to match and find a cache file related to an Address Book application."
   ]
  },
  {
   "cell_type": "code",
   "execution_count": 14,
   "metadata": {},
   "outputs": [],
   "source": [
    "query = \"\"\"\n",
    "SELECT path,bytes FROM files \n",
    "    WHERE path LIKE '%AddressBook%'\n",
    "\"\"\"\n",
    "for i in cursor.execute(query):\n",
    "    print(i)"
   ]
  },
  {
   "cell_type": "markdown",
   "metadata": {},
   "source": [
    "Using `%` means to match any text of zero or more characters. So `%AddressBook%` is very lenient for anything before it and after it. Try adding a condition that filters the result by size. Anything over 2MB (or 2000000 bytes) and see if you can reduce the amount of output."
   ]
  },
  {
   "cell_type": "markdown",
   "metadata": {},
   "source": [
    "There are other variations for search like using an underscore (`_`). That means any single character. If you know that a file prefix or suffix is, you could use this to fine-tune your search.\n",
    "\n",
    "**Exercise:** Use other search items for the paths found in your filesystem and try to match them"
   ]
  }
 ],
 "metadata": {
  "kernelspec": {
   "display_name": ".venv",
   "language": "python",
   "name": "python3"
  },
  "language_info": {
   "codemirror_mode": {
    "name": "ipython",
    "version": 3
   },
   "file_extension": ".py",
   "mimetype": "text/x-python",
   "name": "python",
   "nbconvert_exporter": "python",
   "pygments_lexer": "ipython3",
   "version": "3.13.0"
  },
  "orig_nbformat": 4
 },
 "nbformat": 4,
 "nbformat_minor": 2
}
