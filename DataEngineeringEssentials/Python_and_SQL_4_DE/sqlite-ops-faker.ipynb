{
 "cells": [
  {
   "cell_type": "markdown",
   "metadata": {},
   "source": [
    "SQLLite sample with Faker"
   ]
  },
  {
   "cell_type": "code",
   "execution_count": 10,
   "metadata": {},
   "outputs": [
    {
     "name": "stdout",
     "output_type": "stream",
     "text": [
      "/Users/pandi/source/DataEngineering/DataEngineeringEssentials/Python_and_SQL_4_DE/test-sqllite3.db\n"
     ]
    }
   ],
   "source": [
    "import os\n",
    "\n",
    "CURRENT_DIR = os.path.dirname(os.path.abspath('__file__'))\n",
    "SQLITE_FILE = os.path.join(CURRENT_DIR, 'test-sqllite3.db')\n",
    "print(SQLITE_FILE)"
   ]
  },
  {
   "cell_type": "code",
   "execution_count": 17,
   "metadata": {},
   "outputs": [
    {
     "name": "stdout",
     "output_type": "stream",
     "text": [
      "Table people was created successfully!!!\n"
     ]
    }
   ],
   "source": [
    "import sqlite3\n",
    "\n",
    "TABLE_NAME = \"people\"\n",
    "CREATE_TABLE_QUERY = f'CREATE TABLE {TABLE_NAME} (id integer primary key, firstname TEXT, lastname TEXT, email TEXT)'\n",
    "TABLE_EXISTS_QUERY = f'SELECT name FROM sqlite_master WHERE type=\"table\" AND name=\"{TABLE_NAME}\"'\n",
    "DROP_TABLE_QUERY = f'DROP TABLE {TABLE_NAME}'\n",
    "\n",
    "# with sqlite3.connect(SQLITE_FILE, timeout=10) as connection:\n",
    "connection = sqlite3.connect(SQLITE_FILE, timeout=10)\n",
    "cursor = connection.cursor()\n",
    "\n",
    "cursor.execute(TABLE_EXISTS_QUERY)\n",
    "is_table_exists = cursor.fetchone()\n",
    "\n",
    "if is_table_exists:\n",
    "    print(f\"Table {TABLE_NAME} already exists... hence dropping...\")\n",
    "    cursor.execute(DROP_TABLE_QUERY)\n",
    "\n",
    "cursor.execute(CREATE_TABLE_QUERY)\n",
    "connection.commit()\n",
    "print(\"Table people was created successfully!!!\")\n",
    "\n",
    "cursor.close()\n",
    "\n"
   ]
  },
  {
   "cell_type": "code",
   "execution_count": 18,
   "metadata": {},
   "outputs": [],
   "source": [
    "from faker import Faker\n",
    "\n",
    "fake = Faker()\n",
    "\n",
    "names = [fake.name().split() for i in range(100)]\n",
    "names = [name for name in names if len(name) == 2]"
   ]
  },
  {
   "cell_type": "code",
   "execution_count": 19,
   "metadata": {},
   "outputs": [],
   "source": [
    "INSERT_QUERY = f'INSERT INTO {TABLE_NAME}(firstname, lastname) VALUES(?, ?)'\n",
    "\n",
    "cursor = connection.cursor()\n",
    "for name in names:\n",
    "    cursor.execute(INSERT_QUERY, name)\n",
    "\n",
    "connection.commit()\n",
    "cursor.close()"
   ]
  },
  {
   "cell_type": "code",
   "execution_count": 24,
   "metadata": {},
   "outputs": [
    {
     "name": "stdout",
     "output_type": "stream",
     "text": [
      "(1, 'Joe', 'Day', None)\n",
      "(2, 'Veronica', 'Butler', None)\n",
      "(3, 'Eric', 'Hicks', None)\n",
      "(4, 'Henry', 'Stokes', None)\n",
      "(5, 'Gordon', 'Blair', None)\n",
      "(6, 'Julie', 'Hoffman', None)\n",
      "(7, 'David', 'White', None)\n",
      "(8, 'Keith', 'Mathis', None)\n",
      "(9, 'John', 'Wagner', None)\n",
      "(10, 'Cynthia', 'Ramirez', None)\n"
     ]
    }
   ],
   "source": [
    "SELECT_QUERY = f'SELECT * FROM {TABLE_NAME} LIMIT 10'\n",
    "\n",
    "cursor = connection.cursor()\n",
    "# query_result = cursor.execute(SELECT_QUERY)\n",
    "# for name in query_result.fetchall():\n",
    "#     print(name)\n",
    "for name in cursor.execute(SELECT_QUERY):\n",
    "    print(name)\n",
    "cursor.close()"
   ]
  }
 ],
 "metadata": {
  "kernelspec": {
   "display_name": ".venv",
   "language": "python",
   "name": "python3"
  },
  "language_info": {
   "codemirror_mode": {
    "name": "ipython",
    "version": 3
   },
   "file_extension": ".py",
   "mimetype": "text/x-python",
   "name": "python",
   "nbconvert_exporter": "python",
   "pygments_lexer": "ipython3",
   "version": "3.13.0"
  }
 },
 "nbformat": 4,
 "nbformat_minor": 2
}
