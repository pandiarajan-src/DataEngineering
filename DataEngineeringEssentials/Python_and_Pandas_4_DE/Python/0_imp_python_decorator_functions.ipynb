{
 "cells": [
  {
   "cell_type": "markdown",
   "metadata": {
    "id": "LUmSlgd5Su81"
   },
   "source": [
    "## Timing Decorator"
   ]
  },
  {
   "cell_type": "code",
   "execution_count": 1,
   "metadata": {
    "id": "0hdJxTj0Sya9"
   },
   "outputs": [],
   "source": [
    "# Function decorator that times execution\n",
    "from time import time\n",
    "\n",
    "def timer(func):\n",
    "    # Nested wrapper function\n",
    "    def wrapper():\n",
    "        start = time()\n",
    "        func()\n",
    "        end = time()\n",
    "        print(f\"Duration: {end-start}\")\n",
    "    return wrapper"
   ]
  },
  {
   "cell_type": "code",
   "execution_count": 2,
   "metadata": {
    "colab": {
     "base_uri": "https://localhost:8080/"
    },
    "id": "kDuWzY0sS1On",
    "outputId": "101cf504-8eea-46c4-cb05-32c45f39bc56"
   },
   "outputs": [
    {
     "name": "stdout",
     "output_type": "stream",
     "text": [
      "Duration: 0.051461219787597656\n"
     ]
    }
   ],
   "source": [
    "@timer\n",
    "def sum_nums():\n",
    "    result = 0\n",
    "    for x in range(1000000):\n",
    "        result += x\n",
    "\n",
    "sum_nums()"
   ]
  },
  {
   "cell_type": "markdown",
   "metadata": {
    "id": "XKZtlHukSVgL"
   },
   "source": [
    "## Logging Decorator"
   ]
  },
  {
   "cell_type": "code",
   "execution_count": 3,
   "metadata": {
    "id": "HjNIcA0ELut2"
   },
   "outputs": [],
   "source": [
    "def logger(func):\n",
    "    def wrapper(*args, **kwargs):\n",
    "        print(f\"Ran {func.__name__} with args: {args}, and kwargs: {kwargs}\")\n",
    "        return func(*args, **kwargs)\n",
    "    return wrapper"
   ]
  },
  {
   "cell_type": "code",
   "execution_count": 4,
   "metadata": {
    "colab": {
     "base_uri": "https://localhost:8080/"
    },
    "id": "4LinzMaSSl8U",
    "outputId": "240b87f7-2501-4141-8e3a-e18aad6eaeed"
   },
   "outputs": [
    {
     "name": "stdout",
     "output_type": "stream",
     "text": [
      "Ran add with args: (10, 20), and kwargs: {}\n",
      "Ran sub with args: (30, 20), and kwargs: {}\n"
     ]
    },
    {
     "data": {
      "text/plain": [
       "10"
      ]
     },
     "execution_count": 4,
     "metadata": {},
     "output_type": "execute_result"
    }
   ],
   "source": [
    "@logger\n",
    "def add(x, y):\n",
    "    return x + y\n",
    "\n",
    "@logger\n",
    "def sub(x, y):\n",
    "    return x - y\n",
    "\n",
    "add(10, 20)\n",
    "sub(30, 20)"
   ]
  },
  {
   "cell_type": "markdown",
   "metadata": {
    "id": "VDGksWR2TbWy"
   },
   "source": [
    "## Caching Decorator"
   ]
  },
  {
   "cell_type": "code",
   "execution_count": 2,
   "metadata": {
    "id": "jPt4JN7_TdWg"
   },
   "outputs": [],
   "source": [
    "import functools\n",
    "\n",
    "def cache(func):\n",
    "    cache_data = {}\n",
    "    @functools.wraps(func)\n",
    "    def wrapper(*args, **kwargs):\n",
    "        key = args + tuple(kwargs.items())\n",
    "        if key not in cache_data:\n",
    "            cache_data[key] = func(*args, **kwargs)\n",
    "        return cache_data[key]\n",
    "    return wrapper\n"
   ]
  },
  {
   "cell_type": "code",
   "execution_count": 3,
   "metadata": {
    "id": "09TjFm8JT3yF"
   },
   "outputs": [],
   "source": [
    "import time\n",
    "@cache\n",
    "def expensive_func(x):\n",
    "    start_time = time.time()\n",
    "    time.sleep(2)\n",
    "    print(f\"{expensive_func.__name__} ran in {time.time() - start_time:.2f} secs\")\n",
    "    return x\n",
    "\n",
    "\n"
   ]
  },
  {
   "cell_type": "code",
   "execution_count": 4,
   "metadata": {
    "colab": {
     "base_uri": "https://localhost:8080/"
    },
    "id": "7TWoNRcMUnhu",
    "outputId": "dcb1d20d-b05e-45fd-9e30-6197951bf1b2"
   },
   "outputs": [
    {
     "name": "stdout",
     "output_type": "stream",
     "text": [
      "expensive_func ran in 2.00 secs\n",
      "1\n",
      "CPU times: user 1.17 ms, sys: 1.65 ms, total: 2.82 ms\n",
      "Wall time: 2 s\n"
     ]
    }
   ],
   "source": [
    "%time print(expensive_func(1))"
   ]
  },
  {
   "cell_type": "code",
   "execution_count": 5,
   "metadata": {
    "colab": {
     "base_uri": "https://localhost:8080/"
    },
    "id": "7Aw0p-89UdsP",
    "outputId": "4d11e480-deda-47fa-8d62-230e25a31747"
   },
   "outputs": [
    {
     "name": "stdout",
     "output_type": "stream",
     "text": [
      "1\n",
      "CPU times: user 43 μs, sys: 4 μs, total: 47 μs\n",
      "Wall time: 48.2 μs\n"
     ]
    }
   ],
   "source": [
    "%time print(expensive_func(1))"
   ]
  },
  {
   "cell_type": "code",
   "execution_count": 9,
   "metadata": {
    "id": "XkQvAeY4Tgvq"
   },
   "outputs": [],
   "source": [
    "@cache\n",
    "def fibonacci(n):\n",
    "    if n < 2:\n",
    "        return n\n",
    "    else:\n",
    "        return fibonacci(n-1) + fibonacci(n-2)"
   ]
  },
  {
   "cell_type": "code",
   "execution_count": 10,
   "metadata": {
    "colab": {
     "base_uri": "https://localhost:8080/"
    },
    "id": "8Fu2C8QKTjVP",
    "outputId": "aa9826e9-59d5-4493-9262-5f3580b9dfbe"
   },
   "outputs": [
    {
     "data": {
      "text/plain": [
       "55"
      ]
     },
     "execution_count": 10,
     "metadata": {},
     "output_type": "execute_result"
    }
   ],
   "source": [
    "fibonacci(10)"
   ]
  },
  {
   "cell_type": "markdown",
   "metadata": {
    "id": "e1MhijB9VUhv"
   },
   "source": [
    "## Delay"
   ]
  },
  {
   "cell_type": "code",
   "execution_count": 11,
   "metadata": {
    "id": "ZsMUnd-rVWfO"
   },
   "outputs": [],
   "source": [
    "import time\n",
    "from functools import wraps\n",
    "\n",
    "def delay(seconds):\n",
    "    def inner(func):\n",
    "        @wraps(func)\n",
    "        def wrapper(*args, **kwargs):\n",
    "            print(f\"Sleeping for {seconds} seconds before running {func.__name__}\")\n",
    "            time.sleep(seconds)\n",
    "            return func(*args, **kwargs)\n",
    "        return wrapper\n",
    "    return inner"
   ]
  },
  {
   "cell_type": "code",
   "execution_count": 12,
   "metadata": {
    "colab": {
     "base_uri": "https://localhost:8080/"
    },
    "id": "bWrBTjKRVYoX",
    "outputId": "04fd8ed8-c925-4ab5-a3e5-f2e41ff91e58"
   },
   "outputs": [
    {
     "name": "stdout",
     "output_type": "stream",
     "text": [
      "Sleeping for 3 seconds before running print_text\n",
      "Hello World\n"
     ]
    }
   ],
   "source": [
    "@delay(seconds=3)\n",
    "def print_text():\n",
    "    print(\"Hello World\")\n",
    "\n",
    "print_text()"
   ]
  }
 ],
 "metadata": {
  "colab": {
   "provenance": []
  },
  "kernelspec": {
   "display_name": "Python 3",
   "language": "python",
   "name": "python3"
  },
  "language_info": {
   "codemirror_mode": {
    "name": "ipython",
    "version": 3
   },
   "file_extension": ".py",
   "mimetype": "text/x-python",
   "name": "python",
   "nbconvert_exporter": "python",
   "pygments_lexer": "ipython3",
   "version": "3.12.3"
  }
 },
 "nbformat": 4,
 "nbformat_minor": 1
}
