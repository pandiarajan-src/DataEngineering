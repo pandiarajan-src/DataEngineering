{
 "cells": [
  {
   "cell_type": "markdown",
   "metadata": {},
   "source": [
    "# Comprehensions and Generators"
   ]
  },
  {
   "cell_type": "markdown",
   "metadata": {},
   "source": [
    "#### List Comprehension \n",
    "- A concise syntax for creating lists that applies a function or operation to elements of an iterable\n",
    "\n",
    "#### Generator \n",
    "- A function that returns an iterator object which yields one item at a time instead of returning a whole list\n",
    "\n",
    "#### yield \n",
    "- A keyword used in generator functions to return a value from the function while retaining state\n",
    "\n",
    "#### Iterable \n",
    "- An object that can return its members one at a time, allowing it to be iterated over in a loop\n",
    "\n",
    "#### Iterator \n",
    "- An object that represents a stream of data that can be iterated over"
   ]
  },
  {
   "cell_type": "code",
   "execution_count": 1,
   "metadata": {},
   "outputs": [
    {
     "name": "stdout",
     "output_type": "stream",
     "text": [
      "[1, 8, 27, 64]\n",
      "0\n",
      "1\n",
      "0\n",
      "1\n",
      "2\n",
      "None\n",
      "['c', 'c', 'c', 'c', 'c']\n"
     ]
    }
   ],
   "source": [
    "# List comprehension with for loop to cube numbers\n",
    "nums = [1, 2, 3, 4]\n",
    "cubes = [num**3 for num in nums] \n",
    "print(cubes) # [1, 8, 27, 64]\n",
    "\n",
    "# Generator function yields numbers one by one \n",
    "def num_sequence(n):\n",
    "    for i in range(n): \n",
    "        yield i\n",
    "\n",
    "seq = num_sequence(5)\n",
    "print(next(seq)) # 0\n",
    "print(next(seq)) # 1 \n",
    "\n",
    "# Iterator from generator allows iteration\n",
    "iterator = iter(num_sequence(3))\n",
    "print(next(iterator)) # 0 \n",
    "print(next(iterator)) # 1\n",
    "print(next(iterator)) # 2\n",
    "print(next(iterator, None)) # ??\n",
    "\n",
    "# Strings are iterable \n",
    "chars = [\"c\" for c in \"hello\"]\n",
    "print(chars) # ['h', 'e', 'l', 'l', 'o']"
   ]
  },
  {
   "cell_type": "markdown",
   "metadata": {},
   "source": [
    "### Generator Expressions\n",
    "\n",
    "Generators are better for memory efficient work load, instaed of using large storage use cpu to determine the value whenever it is required."
   ]
  },
  {
   "cell_type": "code",
   "execution_count": 13,
   "metadata": {},
   "outputs": [
    {
     "name": "stdout",
     "output_type": "stream",
     "text": [
      "size of list with item999999 is : 8448728\n",
      "size of generator with item999999 is : 200\n",
      "first value of generator: 0\n",
      "next value of generator: 1\n",
      "print the value normally after 2nd value: [4, 9]\n"
     ]
    }
   ],
   "source": [
    "import sys\n",
    "\n",
    "# List stores all numbers in disk, its costly operation\n",
    "large_num = 999999\n",
    "l_squares = [x**2 for x in range(large_num)]\n",
    "print(f\"size of list with item{large_num} is : {sys.getsizeof(l_squares)}\")\n",
    "\n",
    "# Use Generators to occupy less memory in disk and it is light weight but get the value when needed\n",
    "g_squares = (x**2 for x in range(large_num))\n",
    "print(f\"size of generator with item{large_num} is : {sys.getsizeof(g_squares)}\")\n",
    "\n",
    "# Use next\n",
    "print(f\"first value of generator: {next(g_squares)}\")\n",
    "print(f\"next value of generator: {next(g_squares, None)}\") # using none to return default if iterator is empty\n",
    "\n",
    "# We can use for loop and normal iteration sequence in generators as well\n",
    "print(f\"print the value normally after 2nd value: {[x for x in g_squares if x < 12]}\")\n"
   ]
  },
  {
   "cell_type": "markdown",
   "metadata": {},
   "source": [
    "### Chaining Generator Expressions"
   ]
  },
  {
   "cell_type": "code",
   "execution_count": 9,
   "metadata": {},
   "outputs": [
    {
     "name": "stdout",
     "output_type": "stream",
     "text": [
      "[0, 6, 12, 18, 24, 30, 36, 42, 48, 54, 60, 66, 72, 78, 84, 90, 96]\n"
     ]
    }
   ],
   "source": [
    "evens = (x for x in range(0, 100, 2))\n",
    "evens_divisible_by_three = (x for x in evens if x%3 == 0)\n",
    "print([x for x in evens_divisible_by_three])"
   ]
  },
  {
   "cell_type": "markdown",
   "metadata": {},
   "source": [
    "### Generators as list and subscriptable"
   ]
  },
  {
   "cell_type": "code",
   "execution_count": 25,
   "metadata": {},
   "outputs": [
    {
     "name": "stdout",
     "output_type": "stream",
     "text": [
      "print the first value: 0\n",
      "print the second value: 1\n",
      "print the rest of the value: [2, 3, 4, 5, 6, 7, 8, 9, 10, 11, 12, 13, 14, 15, 16, 17, 18, 19]\n",
      "'generator' object is not subscriptable\n"
     ]
    }
   ],
   "source": [
    "# Generators can be coverted to list\n",
    "gen = (x for x in range(20))\n",
    "print(f\"print the first value: {next(gen)}\")\n",
    "print(f\"print the second value: {next(gen)}\")\n",
    "print(f\"print the rest of the value: {list(gen)}\")\n",
    "\n",
    "# Generators are not subscriptable\n",
    "try:\n",
    "    gen1 = (x for x in range(20))\n",
    "    print(f\"generators are not subscriptable: {gen1[3]}\")\n",
    "except TypeError as ex:\n",
    "    print(f\"{ex}\")"
   ]
  },
  {
   "cell_type": "markdown",
   "metadata": {},
   "source": [
    "### Generator Functions"
   ]
  },
  {
   "cell_type": "code",
   "execution_count": 29,
   "metadata": {},
   "outputs": [
    {
     "name": "stdout",
     "output_type": "stream",
     "text": [
      "first: 0, second: 1, third: 2\n"
     ]
    }
   ],
   "source": [
    "def return_num():\n",
    "    for x in range(5):\n",
    "        yield x\n",
    "\n",
    "gen_num = return_num()\n",
    "\n",
    "print(f\"first: {next(gen_num)}, second: {next(gen_num)}, third: {next(gen_num)}\")\n"
   ]
  },
  {
   "cell_type": "code",
   "execution_count": 2,
   "metadata": {},
   "outputs": [
    {
     "name": "stdout",
     "output_type": "stream",
     "text": [
      "counter starts from 12, every subsequent number returns one add to it. first:12\n",
      "next increment: 13\n",
      "next increment: 14\n"
     ]
    }
   ],
   "source": [
    "# Using generators as global counter or simply a counter\n",
    "def counter(x):\n",
    "    while True:\n",
    "        yield x\n",
    "        x = x + 1\n",
    "\n",
    "count = counter(12)\n",
    "print(f\"counter starts from 12, every subsequent number returns one add to it. first:{next(count)}\")\n",
    "print(f\"next increment: {next(count)}\")\n",
    "print(f\"next increment: {next(count)}\")\n"
   ]
  },
  {
   "cell_type": "code",
   "execution_count": 3,
   "metadata": {},
   "outputs": [
    {
     "name": "stdout",
     "output_type": "stream",
     "text": [
      "1st fibonacchi: 0\n",
      "2nd fibonacchi: 1\n",
      "3rd fibonacchi: 1\n",
      "4th fibonacchi: 2\n",
      "5th fibonacchi: 3\n"
     ]
    }
   ],
   "source": [
    "# fibonacchi as generator\n",
    "\n",
    "def fibonacchi():\n",
    "    for current in (0, 1):\n",
    "        last = current\n",
    "        yield current\n",
    "    while True:\n",
    "        yield current\n",
    "        last, current = current, last+current\n",
    "\n",
    "fib = fibonacchi()\n",
    "\n",
    "print(f\"1st fibonacchi: {next(fib)}\")\n",
    "print(f\"2nd fibonacchi: {next(fib)}\")\n",
    "print(f\"3rd fibonacchi: {next(fib)}\")\n",
    "print(f\"4th fibonacchi: {next(fib)}\")\n",
    "print(f\"5th fibonacchi: {next(fib)}\")\n"
   ]
  },
  {
   "cell_type": "markdown",
   "metadata": {},
   "source": [
    "4. A comprehension using curly brackets will produce a dictionary. Set the variable 'name' to your name and use it to create a dictionary "
   ]
  },
  {
   "cell_type": "code",
   "execution_count": null,
   "metadata": {},
   "outputs": [],
   "source": [
    "name = 'hemri'\n",
    "items = zip(list(name), list(range(len(name))))\n",
    "\n",
    "{x:y for x,y in items}"
   ]
  }
 ],
 "metadata": {
  "kernelspec": {
   "display_name": "Python 3",
   "language": "python",
   "name": "python3"
  },
  "language_info": {
   "codemirror_mode": {
    "name": "ipython",
    "version": 3
   },
   "file_extension": ".py",
   "mimetype": "text/x-python",
   "name": "python",
   "nbconvert_exporter": "python",
   "pygments_lexer": "ipython3",
   "version": "3.12.3"
  }
 },
 "nbformat": 4,
 "nbformat_minor": 4
}
