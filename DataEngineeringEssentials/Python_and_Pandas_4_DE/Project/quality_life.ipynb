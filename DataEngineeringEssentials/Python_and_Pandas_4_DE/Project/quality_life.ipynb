{
 "cells": [
  {
   "cell_type": "code",
   "execution_count": null,
   "metadata": {
    "id": "gGjjjay9vTLO"
   },
   "outputs": [],
   "source": [
    "import pandas as pd\n",
    "import seaborn as sns\n",
    "import matplotlib.pyplot as plt"
   ]
  },
  {
   "cell_type": "code",
   "execution_count": null,
   "metadata": {
    "colab": {
     "base_uri": "https://localhost:8080/",
     "height": 424
    },
    "id": "4z3KmYWUvirF",
    "outputId": "affae68d-1c45-4eea-f403-032d1429f49a"
   },
   "outputs": [],
   "source": [
    "life_df = pd.read_csv(\"expectancy.csv\")\n",
    "life_df.rename(columns={\"mf-life-expectancy\": \"both\"})\n",
    "life_df[\"mf-life-expectancy\"] = life_df[\"both\"] \n",
    "life_df.head(75)"
   ]
  },
  {
   "cell_type": "code",
   "execution_count": null,
   "metadata": {
    "colab": {
     "base_uri": "https://localhost:8080/",
     "height": 206
    },
    "id": "e2pQdGzQvoMw",
    "outputId": "33d9d964-34a9-4608-eedc-17af4fc03fd6"
   },
   "outputs": [],
   "source": [
    "happiness_df = pd.read_csv(\"happiness-2021.csv\")\n",
    "happiness_df.head()"
   ]
  },
  {
   "cell_type": "code",
   "execution_count": null,
   "metadata": {
    "colab": {
     "base_uri": "https://localhost:8080/",
     "height": 833
    },
    "id": "RHmgoWvPvybK",
    "outputId": "f15e82ab-c881-4b95-d74c-ca1a4d03a62d"
   },
   "outputs": [],
   "source": [
    "df = happiness_df.merge(life_df)\n",
    "df.head(25)"
   ]
  },
  {
   "cell_type": "markdown",
   "metadata": {
    "id": "HFCBOHbczMgS"
   },
   "source": [
    "## EDA"
   ]
  },
  {
   "cell_type": "code",
   "execution_count": null,
   "metadata": {
    "colab": {
     "base_uri": "https://localhost:8080/",
     "height": 300
    },
    "id": "r6VdSpMkv7tD",
    "outputId": "1ae345c2-4769-4c6f-d460-a39217ec2872"
   },
   "outputs": [],
   "source": [
    "df.corr()"
   ]
  },
  {
   "cell_type": "code",
   "execution_count": null,
   "metadata": {
    "id": "RUaC_luhEKNr"
   },
   "outputs": [],
   "source": [
    "df_fifty = df.head(50)"
   ]
  },
  {
   "cell_type": "code",
   "execution_count": null,
   "metadata": {
    "colab": {
     "base_uri": "https://localhost:8080/",
     "height": 571
    },
    "id": "4yeHD7aWwvzS",
    "outputId": "f9195ea8-f68f-4479-8508-f2cf05f64bc7"
   },
   "outputs": [],
   "source": [
    "g = sns.regplot(x=\"mf-life-expectancy\", y=\"happiness2021\", data=df_fifty)\n",
    "g.figure.set_size_inches(8, 8)\n",
    "g.figure.text(0.45, 0.55,'United States', fontsize=9)\n",
    "g.figure.suptitle(\"Top 50 Countries Life Expectency and Happiness\")"
   ]
  },
  {
   "cell_type": "code",
   "execution_count": null,
   "metadata": {
    "colab": {
     "base_uri": "https://localhost:8080/"
    },
    "id": "2YIRUvgW3E8n",
    "outputId": "a3a1a2bb-911d-471e-cdf3-47e78bd66521"
   },
   "outputs": [],
   "source": [
    "life_df.country[life_df.country=='United States'].index[0]"
   ]
  },
  {
   "cell_type": "code",
   "execution_count": null,
   "metadata": {
    "colab": {
     "base_uri": "https://localhost:8080/"
    },
    "id": "aZLnMesQ9NoY",
    "outputId": "a875a6b9-c814-42cb-c4f4-1567ceafa9cd"
   },
   "outputs": [],
   "source": [
    "happiness_df.country[happiness_df.country=='United States'].index[0]"
   ]
  },
  {
   "cell_type": "code",
   "execution_count": null,
   "metadata": {
    "id": "r59xtAsP9PfZ"
   },
   "outputs": [],
   "source": [
    "# Filter by region\n",
    "df_region = df[df[\"country\"] == \"United States\"]\n",
    "df_region"
   ]
  },
  {
   "cell_type": "code",
   "execution_count": null,
   "metadata": {},
   "outputs": [],
   "source": [
    "# Create scatterplot matrix\n",
    "g = sns.pairplot(data=df, vars=[\"happiness2021\", \"happiness2020\", \"mf-life-expectancy\"])"
   ]
  }
 ],
 "metadata": {
  "colab": {
   "authorship_tag": "ABX9TyNX2eb3MxZx6HgD8ghGXj3t",
   "include_colab_link": true,
   "machine_shape": "hm",
   "name": "quality-life.ipynb",
   "provenance": []
  },
  "kernelspec": {
   "display_name": "Python 3",
   "language": "python",
   "name": "python3"
  },
  "language_info": {
   "codemirror_mode": {
    "name": "ipython",
    "version": 3
   },
   "file_extension": ".py",
   "mimetype": "text/x-python",
   "name": "python",
   "nbconvert_exporter": "python",
   "pygments_lexer": "ipython3",
   "version": "3.13.0"
  }
 },
 "nbformat": 4,
 "nbformat_minor": 1
}
