{
 "cells": [
  {
   "cell_type": "markdown",
   "metadata": {},
   "source": [
    "# Selecting Data\n",
    "1. Run the cell below to setup this notebook"
   ]
  },
  {
   "cell_type": "code",
   "execution_count": 1,
   "metadata": {},
   "outputs": [
    {
     "data": {
      "text/html": [
       "<div>\n",
       "<style scoped>\n",
       "    .dataframe tbody tr th:only-of-type {\n",
       "        vertical-align: middle;\n",
       "    }\n",
       "\n",
       "    .dataframe tbody tr th {\n",
       "        vertical-align: top;\n",
       "    }\n",
       "\n",
       "    .dataframe thead th {\n",
       "        text-align: right;\n",
       "    }\n",
       "</style>\n",
       "<table border=\"1\" class=\"dataframe\">\n",
       "  <thead>\n",
       "    <tr style=\"text-align: right;\">\n",
       "      <th></th>\n",
       "      <th>color</th>\n",
       "      <th>integers</th>\n",
       "      <th>floats</th>\n",
       "    </tr>\n",
       "  </thead>\n",
       "  <tbody>\n",
       "    <tr>\n",
       "      <th>0</th>\n",
       "      <td>Green</td>\n",
       "      <td>4</td>\n",
       "      <td>0.655447</td>\n",
       "    </tr>\n",
       "    <tr>\n",
       "      <th>1</th>\n",
       "      <td>Green</td>\n",
       "      <td>5</td>\n",
       "      <td>0.038501</td>\n",
       "    </tr>\n",
       "    <tr>\n",
       "      <th>2</th>\n",
       "      <td>Red</td>\n",
       "      <td>13</td>\n",
       "      <td>0.284395</td>\n",
       "    </tr>\n",
       "    <tr>\n",
       "      <th>3</th>\n",
       "      <td>Red</td>\n",
       "      <td>12</td>\n",
       "      <td>0.945983</td>\n",
       "    </tr>\n",
       "    <tr>\n",
       "      <th>4</th>\n",
       "      <td>Red</td>\n",
       "      <td>8</td>\n",
       "      <td>0.299258</td>\n",
       "    </tr>\n",
       "  </tbody>\n",
       "</table>\n",
       "</div>"
      ],
      "text/plain": [
       "   color  integers    floats\n",
       "0  Green         4  0.655447\n",
       "1  Green         5  0.038501\n",
       "2    Red        13  0.284395\n",
       "3    Red        12  0.945983\n",
       "4    Red         8  0.299258"
      ]
     },
     "execution_count": 1,
     "metadata": {},
     "output_type": "execute_result"
    }
   ],
   "source": [
    "import pandas as pd\n",
    "import numpy as np\n",
    "import random\n",
    "\n",
    "num_rows = 100\n",
    "colors = ['Red', 'Blue', 'Green']\n",
    "\n",
    "df = pd.DataFrame( {'color': [colors[random.randint(0,2)] for _ in range(num_rows)],\n",
    "                    'integers': [random.randint(0,15) for _ in range(num_rows)],\n",
    "                    'floats': [random.random() for _ in range(num_rows)]})\n",
    "df.head()"
   ]
  },
  {
   "cell_type": "markdown",
   "metadata": {},
   "source": [
    "2. Create a mask named 'red_mask' with `True` for all rows where the color is equal to 'Red'. Remember that the equals operator is a double equals `==`."
   ]
  },
  {
   "cell_type": "code",
   "execution_count": 2,
   "metadata": {},
   "outputs": [],
   "source": [
    "red_mask = df['color'] == 'Red'"
   ]
  },
  {
   "cell_type": "markdown",
   "metadata": {},
   "source": [
    "3. New create a DataFrame named 'red_df' by using the mask with the data frame `df`. You can use the mask in the simple bracket syntax to filter the DataFrame."
   ]
  },
  {
   "cell_type": "code",
   "execution_count": 4,
   "metadata": {},
   "outputs": [
    {
     "name": "stdout",
     "output_type": "stream",
     "text": [
      "   color  integers    floats\n",
      "2    Red        13  0.284395\n",
      "3    Red        12  0.945983\n",
      "4    Red         8  0.299258\n",
      "6    Red         4  0.437744\n",
      "7    Red         7  0.138837\n",
      "17   Red         3  0.827762\n",
      "21   Red         6  0.987660\n",
      "23   Red        10  0.383008\n",
      "27   Red        13  0.198920\n",
      "28   Red         7  0.794833\n",
      "29   Red         7  0.580621\n",
      "33   Red         6  0.295879\n",
      "34   Red         1  0.275031\n",
      "36   Red        10  0.984487\n",
      "37   Red        12  0.049408\n",
      "38   Red         4  0.737641\n",
      "39   Red         4  0.688503\n",
      "41   Red         2  0.439934\n",
      "46   Red         0  0.173934\n",
      "52   Red         3  0.077418\n",
      "55   Red        10  0.362366\n",
      "56   Red         6  0.590564\n",
      "61   Red        12  0.105050\n",
      "65   Red         4  0.155057\n",
      "66   Red        13  0.378581\n",
      "68   Red         9  0.623787\n",
      "69   Red         5  0.401662\n",
      "73   Red         8  0.572276\n",
      "74   Red        14  0.897747\n",
      "77   Red         4  0.846059\n",
      "78   Red        10  0.462744\n",
      "92   Red         8  0.380056\n",
      "94   Red        12  0.553642\n",
      "95   Red        14  0.349669\n"
     ]
    }
   ],
   "source": [
    "red_df = df[red_mask]\n",
    "print(red_df)"
   ]
  },
  {
   "cell_type": "markdown",
   "metadata": {},
   "source": [
    "4. Columns have a method, `.unique()`, which will return all unique values in that column. Call this method on the `red_df.color` to confirm that it only contians 'Red' values."
   ]
  },
  {
   "cell_type": "code",
   "execution_count": 6,
   "metadata": {},
   "outputs": [
    {
     "name": "stdout",
     "output_type": "stream",
     "text": [
      "['Red']\n"
     ]
    }
   ],
   "source": [
    "print(red_df.color.unique())"
   ]
  },
  {
   "cell_type": "markdown",
   "metadata": {},
   "source": [
    "5. Now use the not operator, `~`, in combination with `red_mask`, to create a new DataFrame named 'no_red'. Simply put `~` in front of the mask to negate it."
   ]
  },
  {
   "cell_type": "code",
   "execution_count": 8,
   "metadata": {},
   "outputs": [
    {
     "name": "stdout",
     "output_type": "stream",
     "text": [
      "    color  integers    floats\n",
      "0   Green         4  0.655447\n",
      "1   Green         5  0.038501\n",
      "5   Green         6  0.710884\n",
      "8    Blue         6  0.871042\n",
      "9    Blue         6  0.500037\n",
      "..    ...       ...       ...\n",
      "93  Green         0  0.811281\n",
      "96   Blue         3  0.858502\n",
      "97   Blue        12  0.099966\n",
      "98   Blue         5  0.645250\n",
      "99  Green         1  0.047973\n",
      "\n",
      "[66 rows x 3 columns]\n"
     ]
    }
   ],
   "source": [
    "no_red = df[~red_mask]\n",
    "print(no_red)"
   ]
  },
  {
   "cell_type": "markdown",
   "metadata": {},
   "source": [
    "6. Now check the values of `no_red.color` using the `.unique()` method to confirm that there are no 'Red' values."
   ]
  },
  {
   "cell_type": "code",
   "execution_count": 10,
   "metadata": {},
   "outputs": [
    {
     "name": "stdout",
     "output_type": "stream",
     "text": [
      "['Green' 'Blue']\n"
     ]
    }
   ],
   "source": [
    "print(no_red.color.unique())"
   ]
  },
  {
   "cell_type": "markdown",
   "metadata": {},
   "source": [
    "7. Create a new mask named 'three_mask' for all rows where `integers <= 3`."
   ]
  },
  {
   "cell_type": "code",
   "execution_count": 11,
   "metadata": {},
   "outputs": [],
   "source": [
    "three_mask = df['integers'] < 3"
   ]
  },
  {
   "cell_type": "markdown",
   "metadata": {},
   "source": [
    "8. Create a new DataFrame named 'mixed_df' containing only rows whose color is 'Red' and whose integer value is equal or less than 3 by using the 'and' operator, `&` between that masks. "
   ]
  },
  {
   "cell_type": "code",
   "execution_count": 12,
   "metadata": {},
   "outputs": [
    {
     "name": "stdout",
     "output_type": "stream",
     "text": [
      "   color  integers    floats\n",
      "34   Red         1  0.275031\n",
      "41   Red         2  0.439934\n",
      "46   Red         0  0.173934\n"
     ]
    }
   ],
   "source": [
    "mixed_df = red_df[three_mask]\n",
    "print(mixed_df)"
   ]
  },
  {
   "cell_type": "markdown",
   "metadata": {},
   "source": [
    "9. Now use `.unique()` to check the values of the 'color' column"
   ]
  },
  {
   "cell_type": "code",
   "execution_count": 13,
   "metadata": {},
   "outputs": [
    {
     "name": "stdout",
     "output_type": "stream",
     "text": [
      "['Red']\n"
     ]
    }
   ],
   "source": [
    "print(mixed_df.color.unique())"
   ]
  },
  {
   "cell_type": "markdown",
   "metadata": {},
   "source": [
    "10. Use `.unique()` to check the values of the 'integer' column, confirming that they are all less than or equal to 3."
   ]
  },
  {
   "cell_type": "code",
   "execution_count": 14,
   "metadata": {},
   "outputs": [
    {
     "name": "stdout",
     "output_type": "stream",
     "text": [
      "[1 2 0]\n"
     ]
    }
   ],
   "source": [
    "print(mixed_df.integers.unique())"
   ]
  },
  {
   "cell_type": "code",
   "execution_count": null,
   "metadata": {},
   "outputs": [],
   "source": []
  }
 ],
 "metadata": {
  "kernelspec": {
   "display_name": "Python 3",
   "language": "python",
   "name": "python3"
  },
  "language_info": {
   "codemirror_mode": {
    "name": "ipython",
    "version": 3
   },
   "file_extension": ".py",
   "mimetype": "text/x-python",
   "name": "python",
   "nbconvert_exporter": "python",
   "pygments_lexer": "ipython3",
   "version": "3.7.6"
  }
 },
 "nbformat": 4,
 "nbformat_minor": 4
}
