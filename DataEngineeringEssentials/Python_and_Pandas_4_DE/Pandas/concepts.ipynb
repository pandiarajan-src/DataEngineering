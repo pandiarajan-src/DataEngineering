{
 "cells": [
  {
   "cell_type": "markdown",
   "metadata": {},
   "source": [
    "# Key Terms\n",
    "**Comparison operators** - Operators like ```==, !=, >, <``` etc. used to compare values and return Boolean true/false results. Important for filtering data.\n",
    "\n",
    "**Boolean operators** - Operators like &, |, ~ used to combine comparison expressions and return true/false results. Important for complex filter logic.\n",
    "\n",
    "**Filters** - Boolean indexed arrays that allow selecting subsets of data meeting comparison criteria. Created using comparison/Boolean operators.\n",
    "\n",
    "**loc accessor** - Accessor used to select/filter data from a DataFrame by label or Boolean array.\n",
    "\n",
    "**isin()** method - Method to filter data using a list of values to check for set membership. Useful alternative to repeated equality checks."
   ]
  },
  {
   "cell_type": "code",
   "execution_count": 1,
   "metadata": {},
   "outputs": [
    {
     "name": "stdout",
     "output_type": "stream",
     "text": [
      "   A  B\n",
      "1  2  5\n",
      "   A  B\n",
      "2  3  6\n",
      "   A  B\n",
      "1  2  5\n",
      "2  3  6\n",
      "   A  B\n",
      "1  2  5\n"
     ]
    }
   ],
   "source": [
    "import pandas as pd\n",
    "\n",
    "df = pd.DataFrame({'A': [1, 2, 3], 'B': [4, 5, 6]})\n",
    "\n",
    "# Comparison operators \n",
    "print(df[df['A'] == 2]) # Simple filter\n",
    "\n",
    "# Boolean operators\n",
    "filter = (df['A'] > 1) & (df['B'] == 6)  \n",
    "print(df[filter]) # Complex filter\n",
    "\n",
    "# Filters with loc accessor\n",
    "filter = df['A'] > 1\n",
    "print(df.loc[filter]) \n",
    "\n",
    "# isin() method\n",
    "values = [2, 5]\n",
    "filter = df['A'].isin(values) \n",
    "print(df[filter])"
   ]
  },
  {
   "cell_type": "code",
   "execution_count": null,
   "metadata": {},
   "outputs": [],
   "source": []
  }
 ],
 "metadata": {
  "kernelspec": {
   "display_name": "dee_venv",
   "language": "python",
   "name": "python3"
  },
  "language_info": {
   "codemirror_mode": {
    "name": "ipython",
    "version": 3
   },
   "file_extension": ".py",
   "mimetype": "text/x-python",
   "name": "python",
   "nbconvert_exporter": "python",
   "pygments_lexer": "ipython3",
   "version": "3.12.3"
  }
 },
 "nbformat": 4,
 "nbformat_minor": 2
}
