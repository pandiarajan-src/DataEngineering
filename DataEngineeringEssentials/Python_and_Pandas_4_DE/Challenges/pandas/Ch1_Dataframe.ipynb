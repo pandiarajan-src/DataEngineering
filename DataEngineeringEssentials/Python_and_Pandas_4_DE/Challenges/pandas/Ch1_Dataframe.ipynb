{
 "cells": [
  {
   "cell_type": "markdown",
   "metadata": {},
   "source": [
    "# Pandas Challenge\n",
    "\n",
    "1. Create a DataFrame for storing weather data\n",
    "2. Select a row from mid-point using iloc\n",
    "3. Filter rows matching certain numeric criteria with loc\n",
    "4. Load a CSV file into a DataFrame\n",
    "5. Set the index to another column like dates"
   ]
  },
  {
   "cell_type": "code",
   "execution_count": 21,
   "metadata": {},
   "outputs": [
    {
     "name": "stdout",
     "output_type": "stream",
     "text": [
      "            Date  Temperature  Humidity Weather_Condition\n",
      "Day1  2013-01-01           20        50            cloudy\n",
      "Day2  2013-01-02           21        52             sunny\n",
      "Day3  2013-01-03           19        48             rainy\n",
      "========================================\n",
      "Mid row value: Date                 2013-01-02\n",
      "Temperature                  21\n",
      "Humidity                     52\n",
      "Weather_Condition         sunny\n",
      "Name: Day2, dtype: object\n",
      "========================================\n",
      "High temp rows:             Date  Temperature  Humidity Weather_Condition\n",
      "Day2  2013-01-02           21        52             sunny\n",
      "----------------------------------------\n",
      "Sunny rows:             Date  Temperature  Humidity Weather_Condition\n",
      "Day2  2013-01-02           21        52             sunny\n",
      "========================================\n",
      "Head of loaded weather data:\n",
      "                             Temperature  Humidity Weather Condition\n",
      "Date                                                               \n",
      "2024-07-26 06:54:13.048625         24.4      13.1            cloudy\n",
      "2024-07-25 06:54:13.048625         29.3      59.4             sunny\n",
      "2024-07-24 06:54:13.048625         21.6       2.2             rainy\n",
      "2024-07-23 06:54:13.048625         25.4      87.1             rainy\n",
      "2024-07-22 06:54:13.048625         26.3      28.5             sunny\n",
      "========================================\n"
     ]
    }
   ],
   "source": [
    "import pandas as pd\n",
    "import ipynb.fs.full.Create_data_helper as data_gen\n",
    "\n",
    "# 1. Create a DataFrame for storing weather data\n",
    "w_data = {\"Date\": ['2013-01-01', '2013-01-02', '2013-01-03'], \"Temperature\": [20, 21, 19], \"Humidity\": [50, 52, 48], \"Weather_Condition\": ['cloudy', 'sunny', 'rainy']}\n",
    "df = pd.DataFrame(w_data, index = [\"Day1\", \"Day2\", \"Day3\"])\n",
    "# print(df.info())\n",
    "# print(df.describe())\n",
    "print(df.head())\n",
    "print(\"=\" * 40)\n",
    "\n",
    "# 2. Select a row from mid-point using iloc\n",
    "mid_value = df.iloc[df.shape[0] // 2]\n",
    "print(f\"Mid row value: {mid_value}\") \n",
    "print(\"=\" * 40)\n",
    "\n",
    "# 3. Filter rows matching certain numeric criteria with loc\n",
    "high_temp = df.loc[df.Temperature > 20]\n",
    "print(f\"High temp rows: {high_temp}\")\n",
    "print(\"-\" * 40)\n",
    "sunny = df.loc[df.Weather_Condition == 'sunny']\n",
    "print(f\"Sunny rows: {sunny}\")\n",
    "print(\"=\" * 40)\n",
    "\n",
    "# Create a CSV file for storing weather data\n",
    "data_gen.create_random_weather_data(\"weather_data.csv\")\n",
    "# 4. Load a CSV file into a DataFrame\n",
    "weather_data = pd.read_csv(\"weather_data.csv\")\n",
    "\n",
    "# 5. Set the Date column as the index\n",
    "weather_data.set_index('Date', inplace=True)\n",
    "\n",
    "# Print the CSV loaded weather data\n",
    "print(\"Head of loaded weather data:\\n\", weather_data.head()) \n",
    "print(\"=\" * 40)\n"
   ]
  }
 ],
 "metadata": {
  "kernelspec": {
   "display_name": "dee_venv",
   "language": "python",
   "name": "python3"
  },
  "language_info": {
   "codemirror_mode": {
    "name": "ipython",
    "version": 3
   },
   "file_extension": ".py",
   "mimetype": "text/x-python",
   "name": "python",
   "nbconvert_exporter": "python",
   "pygments_lexer": "ipython3",
   "version": "3.12.3"
  }
 },
 "nbformat": 4,
 "nbformat_minor": 2
}
