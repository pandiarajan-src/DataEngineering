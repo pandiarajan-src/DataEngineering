{
 "cells": [
  {
   "cell_type": "markdown",
   "metadata": {},
   "source": [
    "# Create weather data dynamically"
   ]
  },
  {
   "cell_type": "code",
   "execution_count": 3,
   "metadata": {},
   "outputs": [],
   "source": [
    "import pandas as pd\n",
    "import numpy as np\n",
    "from datetime import datetime, timedelta\n",
    "\n",
    "def create_random_weather_data(file_name: str = \"weather\") -> None:\n",
    "    # Create a date list of past 30 days\n",
    "    num_days = 30 # one month 30 days worth of data\n",
    "    start_date = datetime.today()\n",
    "    date_list = [start_date - timedelta(days=x) for x in range(num_days)]\n",
    "\n",
    "    # Create random temperature, humidity and weather condition.\n",
    "    temperature = np.random.uniform(low=20, high=30, size=num_days).round(1)\n",
    "    humidity = np.random.uniform(low=0, high=100, size=num_days).round(1)\n",
    "    weather_conditions = np.random.choice(['sunny', 'cloudy', 'rainy'], size=num_days)\n",
    "\n",
    "    # Randomly choose weather conditions for each dat\n",
    "    random_conditions = [np.random.choice(weather_conditions) for _ in range(num_days)]\n",
    "\n",
    "    # Create dataframe\n",
    "    df = pd.DataFrame({'Date': date_list, 'Temperature': temperature, 'Humidity': humidity, 'Weather Condition': random_conditions})\n",
    "\n",
    "    # Save dataframe to csv\n",
    "    df.to_csv(file_name + \".csv\", index=False)\n",
    "    df.to_json(file_name + \".json\", orient='records')\n",
    "\n",
    "    ## Print dataframe\n",
    "    # print(df.head())"
   ]
  },
  {
   "cell_type": "code",
   "execution_count": 4,
   "metadata": {},
   "outputs": [],
   "source": [
    "# Create a CSV and JSON file for storing weather data\n",
    "create_random_weather_data(\"weather_data\")\n"
   ]
  }
 ],
 "metadata": {
  "kernelspec": {
   "display_name": "dee_venv",
   "language": "python",
   "name": "python3"
  },
  "language_info": {
   "codemirror_mode": {
    "name": "ipython",
    "version": 3
   },
   "file_extension": ".py",
   "mimetype": "text/x-python",
   "name": "python",
   "nbconvert_exporter": "python",
   "pygments_lexer": "ipython3",
   "version": "3.12.3"
  }
 },
 "nbformat": 4,
 "nbformat_minor": 2
}
