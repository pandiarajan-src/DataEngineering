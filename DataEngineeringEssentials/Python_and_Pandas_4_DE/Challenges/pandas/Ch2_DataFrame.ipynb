{
 "cells": [
  {
   "cell_type": "markdown",
   "metadata": {},
   "source": [
    "# Challenge question on 2nd \n",
    "\n",
    "1. Filter a DataFrame to only show values greater than the mean\n",
    "2. Combine filters to find rows matching multiple Boolean conditions\n",
    "3. Use isin() to filter categorical data like product types\n",
    "4. Slice DataFrame with .loc[] using a Boolean filter\n",
    "5. Chain complex filters with multiple Boolean operators"
   ]
  },
  {
   "cell_type": "code",
   "execution_count": 1,
   "metadata": {},
   "outputs": [
    {
     "name": "stdout",
     "output_type": "stream",
     "text": [
      "                         Date  Temperature  Humidity Weather Condition\n",
      "0  2024-07-26 08:48:41.534691         24.5      70.3            cloudy\n",
      "1  2024-07-25 08:48:41.534691         22.0      86.2             sunny\n",
      "2  2024-07-24 08:48:41.534691         24.9      13.3             rainy\n",
      "3  2024-07-23 08:48:41.534691         21.2      42.7             rainy\n",
      "4  2024-07-22 08:48:41.534691         25.0      28.1             sunny\n"
     ]
    }
   ],
   "source": [
    "import pandas as pd\n",
    "import ipynb.fs.full.Create_data_helper as cdh\n",
    "\n",
    "# Create dataframe for storing weather data and load the data in dataframe\n",
    "cdh.create_random_weather_data(\"weather_data.csv\")\n",
    "df = pd.read_csv(\"weather_data.csv\")\n",
    "print(df.head())\n"
   ]
  },
  {
   "cell_type": "code",
   "execution_count": 8,
   "metadata": {},
   "outputs": [
    {
     "name": "stdout",
     "output_type": "stream",
     "text": [
      "Mean of the temperature is: 24.740000000000002\n",
      "                          Date  Temperature  Humidity Weather Condition\n",
      "3   2024-07-23 07:27:12.657350         29.0       3.2            cloudy\n",
      "6   2024-07-20 07:27:12.657350         30.0      47.4            cloudy\n",
      "7   2024-07-19 07:27:12.657350         26.6      89.4             rainy\n",
      "8   2024-07-18 07:27:12.657350         25.1       8.1            cloudy\n",
      "10  2024-07-16 07:27:12.657350         26.9      74.9            cloudy\n",
      "14  2024-07-12 07:27:12.657350         29.7      47.7            cloudy\n",
      "15  2024-07-11 07:27:12.657350         27.7      31.5            cloudy\n",
      "16  2024-07-10 07:27:12.657350         26.8      87.0            cloudy\n",
      "19  2024-07-07 07:27:12.657350         28.7      93.1             sunny\n",
      "20  2024-07-06 07:27:12.657350         27.7      69.6             sunny\n",
      "21  2024-07-05 07:27:12.657350         26.4       3.9             sunny\n",
      "22  2024-07-04 07:27:12.657350         28.1      25.6             sunny\n",
      "26  2024-06-30 07:27:12.657350         28.2       7.2             rainy\n",
      "28  2024-06-28 07:27:12.657350         25.1      14.8             sunny\n"
     ]
    }
   ],
   "source": [
    "# 1. Filter a DataFrame to only show values greater than mean\n",
    "print(f\"Mean of the temperature is: {df['Temperature'].mean()}\")\n",
    "greater_mean_temp = df[df[\"Temperature\"] > df[\"Temperature\"].mean()]\n",
    "print(greater_mean_temp)"
   ]
  },
  {
   "cell_type": "code",
   "execution_count": 11,
   "metadata": {},
   "outputs": [
    {
     "name": "stdout",
     "output_type": "stream",
     "text": [
      "Mean of temperature: 24.740000000000002\n",
      "Mean of humidity: 51.70666666666667\n",
      "                          Date  Temperature  Humidity Weather Condition\n",
      "19  2024-07-07 07:27:12.657350         28.7      93.1             sunny\n",
      "20  2024-07-06 07:27:12.657350         27.7      69.6             sunny\n"
     ]
    }
   ],
   "source": [
    "# Combine filters to find rows matching multiple Boolean conditions\n",
    "print(f\"Mean of temperature: {df['Temperature'].mean()}\")\n",
    "print(f\"Mean of humidity: {df['Humidity'].mean()}\")\n",
    "\n",
    "# Just create a condition for temperature and humidity\n",
    "multi_filter_condition = (df[\"Temperature\"] > df[\"Temperature\"].mean()) & (df[\"Humidity\"] > df[\"Humidity\"].mean())\n",
    "# Filter data based on existing condition and newly added condition.\n",
    "multi_filter_data = df[multi_filter_condition & (df[\"Weather Condition\"] == \"sunny\")]\n",
    "\n",
    "print(multi_filter_data)"
   ]
  },
  {
   "cell_type": "code",
   "execution_count": 13,
   "metadata": {},
   "outputs": [
    {
     "name": "stdout",
     "output_type": "stream",
     "text": [
      "                          Date  Temperature  Humidity Weather Condition\n",
      "0   2024-07-26 07:27:12.657350         23.9      88.3            cloudy\n",
      "25  2024-07-01 07:27:12.657350         23.0      93.6            cloudy\n",
      "23  2024-07-03 07:27:12.657350         22.9      48.4            cloudy\n",
      "18  2024-07-08 07:27:12.657350         24.0      29.8            cloudy\n",
      "16  2024-07-10 07:27:12.657350         26.8      87.0            cloudy\n",
      "15  2024-07-11 07:27:12.657350         27.7      31.5            cloudy\n",
      "27  2024-06-29 07:27:12.657350         22.8      79.0            cloudy\n",
      "10  2024-07-16 07:27:12.657350         26.9      74.9            cloudy\n",
      "14  2024-07-12 07:27:12.657350         29.7      47.7            cloudy\n",
      "8   2024-07-18 07:27:12.657350         25.1       8.1            cloudy\n",
      "6   2024-07-20 07:27:12.657350         30.0      47.4            cloudy\n",
      "4   2024-07-22 07:27:12.657350         22.3      38.9            cloudy\n",
      "3   2024-07-23 07:27:12.657350         29.0       3.2            cloudy\n",
      "12  2024-07-14 07:27:12.657350         21.1      37.5             sunny\n",
      "13  2024-07-13 07:27:12.657350         21.8      18.8             sunny\n",
      "5   2024-07-21 07:27:12.657350         24.2      27.3             sunny\n",
      "19  2024-07-07 07:27:12.657350         28.7      93.1             sunny\n",
      "20  2024-07-06 07:27:12.657350         27.7      69.6             sunny\n",
      "21  2024-07-05 07:27:12.657350         26.4       3.9             sunny\n",
      "22  2024-07-04 07:27:12.657350         28.1      25.6             sunny\n",
      "24  2024-07-02 07:27:12.657350         22.7      96.0             sunny\n",
      "1   2024-07-25 07:27:12.657350         21.3      48.0             sunny\n",
      "9   2024-07-17 07:27:12.657350         21.7      75.6             sunny\n",
      "28  2024-06-28 07:27:12.657350         25.1      14.8             sunny\n"
     ]
    }
   ],
   "source": [
    "# 3. Use isin() to filter categorical data like product types\n",
    "\n",
    "# Filter weather data where the weather condition is either sunny or cloudy\n",
    "weather_data = df[df[\"Weather Condition\"].isin([\"sunny\", \"cloudy\"])].sort_values(by=\"Weather Condition\")\n",
    "print(weather_data)"
   ]
  },
  {
   "cell_type": "code",
   "execution_count": 14,
   "metadata": {},
   "outputs": [
    {
     "name": "stdout",
     "output_type": "stream",
     "text": [
      "                          Date  Temperature  Humidity Weather Condition\n",
      "1   2024-07-25 07:27:12.657350         21.3      48.0             sunny\n",
      "5   2024-07-21 07:27:12.657350         24.2      27.3             sunny\n",
      "9   2024-07-17 07:27:12.657350         21.7      75.6             sunny\n",
      "12  2024-07-14 07:27:12.657350         21.1      37.5             sunny\n",
      "13  2024-07-13 07:27:12.657350         21.8      18.8             sunny\n",
      "19  2024-07-07 07:27:12.657350         28.7      93.1             sunny\n",
      "20  2024-07-06 07:27:12.657350         27.7      69.6             sunny\n",
      "21  2024-07-05 07:27:12.657350         26.4       3.9             sunny\n",
      "22  2024-07-04 07:27:12.657350         28.1      25.6             sunny\n",
      "24  2024-07-02 07:27:12.657350         22.7      96.0             sunny\n",
      "28  2024-06-28 07:27:12.657350         25.1      14.8             sunny\n"
     ]
    }
   ],
   "source": [
    "# 4. Slice DataFrame with .loc[] using a Boolean filter\n",
    "weather_data = df.loc[df[\"Weather Condition\"] == \"sunny\"]\n",
    "print(weather_data)"
   ]
  },
  {
   "cell_type": "code",
   "execution_count": 23,
   "metadata": {},
   "outputs": [
    {
     "name": "stdout",
     "output_type": "stream",
     "text": [
      "                          Date  Temperature  Humidity Weather Condition\n",
      "19  2024-07-07 07:27:12.657350         28.7      93.1             sunny\n",
      "20  2024-07-06 07:27:12.657350         27.7      69.6             sunny\n",
      "21  2024-07-05 07:27:12.657350         26.4       3.9             sunny\n",
      "22  2024-07-04 07:27:12.657350         28.1      25.6             sunny\n",
      "28  2024-06-28 07:27:12.657350         25.1      14.8             sunny\n"
     ]
    }
   ],
   "source": [
    "# 5. Chain complex filters with multiple Boolean operators\n",
    "\n",
    "cond1 = (df[\"Temperature\"] > df[\"Temperature\"].mean())\n",
    "cond2 = (df[\"Weather Condition\"] == \"sunny\")\n",
    "\n",
    "weather_data = df.loc[cond1 & cond2]\n",
    "print(weather_data)"
   ]
  }
 ],
 "metadata": {
  "kernelspec": {
   "display_name": "dee_venv",
   "language": "python",
   "name": "python3"
  },
  "language_info": {
   "codemirror_mode": {
    "name": "ipython",
    "version": 3
   },
   "file_extension": ".py",
   "mimetype": "text/x-python",
   "name": "python",
   "nbconvert_exporter": "python",
   "pygments_lexer": "ipython3",
   "version": "3.12.3"
  }
 },
 "nbformat": 4,
 "nbformat_minor": 2
}
