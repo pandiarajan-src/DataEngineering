{
 "cells": [
  {
   "cell_type": "markdown",
   "metadata": {},
   "source": [
    "# Challenge Exercises\n",
    "\n",
    "1. Define a function that calculates simple interest\n",
    "2. Create a function to test if a word is a palindrome\n",
    "3. Write a function that finds the maximum of three numbers\n",
    "4. Develop a function to format a date string into a readable format\n",
    "5. Define a function to generate a random password"
   ]
  },
  {
   "cell_type": "code",
   "execution_count": 4,
   "metadata": {},
   "outputs": [
    {
     "name": "stdout",
     "output_type": "stream",
     "text": [
      "simple_interest(1000, 0.1, 5): 500.0\n",
      "simple_interest(100, .1, 2): 20.0\n"
     ]
    }
   ],
   "source": [
    "# Define a function that calculates simple interest\n",
    "def simple_interest(p:float, r:float, t:float) -> float:\n",
    "    \"\"\"\n",
    "    Calculates simple interest\n",
    "    Args: \n",
    "    p - principal\n",
    "    r - rate of interest for years\n",
    "    t - time\n",
    "    \"\"\"\n",
    "    return p * r * t\n",
    "\n",
    "# Call the function\n",
    "print(\"simple_interest(1000, 0.1, 5):\", simple_interest(1000, 0.1, 5))\n",
    "print(\"simple_interest(100, .1, 2):\", simple_interest(100, .1, 2))\n"
   ]
  },
  {
   "cell_type": "code",
   "execution_count": 5,
   "metadata": {},
   "outputs": [
    {
     "name": "stdout",
     "output_type": "stream",
     "text": [
      "is_palindrome('racecar'): True\n",
      "is_palindrome('madam'): True\n",
      "is_palindrome('hello'): False\n"
     ]
    }
   ],
   "source": [
    "# Create a function to test if a word is a palindrome\n",
    "\n",
    "def is_palindrome(word: str) -> bool:\n",
    "    \"\"\"\n",
    "    Checks if a word is a palindrome\n",
    "    Args:\n",
    "    word - string\n",
    "    \"\"\"\n",
    "    return word == word[::-1]\n",
    "\n",
    "\n",
    "# Call the function\n",
    "print(\"is_palindrome('racecar'):\", is_palindrome(\"racecar\"))\n",
    "print(\"is_palindrome('madam'):\", is_palindrome(\"madam\"))\n",
    "print(\"is_palindrome('hello'):\", is_palindrome(\"hello\"))"
   ]
  },
  {
   "cell_type": "code",
   "execution_count": 6,
   "metadata": {},
   "outputs": [
    {
     "name": "stdout",
     "output_type": "stream",
     "text": [
      "max_of_three(1, 2, 3): 3\n",
      "max_of_three(30, 20, 10): 30\n",
      "max_of_three(300, 100, 200): 300\n"
     ]
    }
   ],
   "source": [
    "# Write a function that finds the maximum of three numbers\n",
    "\n",
    "def max_of_three(a: int, b: int, c: int) -> int:\n",
    "    \"\"\"\n",
    "    Finds the maximum of three numbers\n",
    "    Args:\n",
    "    a - first number\n",
    "    b - second number\n",
    "    c - third number\n",
    "    \"\"\"\n",
    "    return max(a, b, c)\n",
    "\n",
    "# Call the function\n",
    "print(\"max_of_three(1, 2, 3):\", max_of_three(1, 2, 3))\n",
    "print(\"max_of_three(30, 20, 10):\", max_of_three(30, 20, 10))\n",
    "print(\"max_of_three(300, 100, 200):\", max_of_three(300, 100, 200))"
   ]
  },
  {
   "cell_type": "code",
   "execution_count": 11,
   "metadata": {},
   "outputs": [
    {
     "name": "stdout",
     "output_type": "stream",
     "text": [
      "format_date('2022-01-01'): 01 January, 2022\n",
      "format_date('2022-12-31'): 31 December, 2022\n",
      "format_date('2022-02-27'): 27 February, 2022\n"
     ]
    }
   ],
   "source": [
    "# Develop a function to format a date string into a readable format\n",
    "from datetime import datetime\n",
    "\n",
    "def format_date(date: str) -> str:\n",
    "    \"\"\"\n",
    "    Formats a date string into a readable format\n",
    "    Args:\n",
    "    date - string in the format 'YYYY-MM-DD'\n",
    "    \"\"\"\n",
    "    date_obj = datetime.strptime(date, '%Y-%m-%d')\n",
    "    return date_obj.strftime('%d %B, %Y')\n",
    "\n",
    "# Call the function\n",
    "print(\"format_date('2022-01-01'):\", format_date(\"2022-01-01\"))\n",
    "print(\"format_date('2022-12-31'):\", format_date(\"2022-12-31\"))\n",
    "print(\"format_date('2022-02-27'):\", format_date(\"2022-02-27\"))"
   ]
  },
  {
   "cell_type": "code",
   "execution_count": 26,
   "metadata": {},
   "outputs": [
    {
     "name": "stdout",
     "output_type": "stream",
     "text": [
      "generate_randaom_password(8): &OE7m[]\\\n",
      "generate_randaom_password(12): >Zsf*s2Y^y8Z\n",
      "generate_randaom_password(16): Iy~2<'8%Ij\\!E!<]\n"
     ]
    }
   ],
   "source": [
    "# Define a function to generate a random password\n",
    "import string\n",
    "import random\n",
    "\n",
    "def generate_randaom_password(length: int) -> str:\n",
    "    \"\"\"\n",
    "    Generates a random password\n",
    "    Args:\n",
    "    length - length of the password\n",
    "    \"\"\"\n",
    "    password = [random.choice(string.ascii_lowercase), \n",
    "                random.choice(string.ascii_uppercase),\n",
    "                random.choice(string.digits),\n",
    "                random.choice(string.punctuation)]\n",
    "    all_characters = string.ascii_lowercase + string.ascii_uppercase + string.digits + string.punctuation\n",
    "    password += random.choices(all_characters, k=length-4)\n",
    "    random.shuffle(password)\n",
    "    return ''.join(password)\n",
    "\n",
    "# Call the function\n",
    "print(\"generate_randaom_password(8):\", generate_randaom_password(8))\n",
    "print(\"generate_randaom_password(12):\", generate_randaom_password(12))\n",
    "print(\"generate_randaom_password(16):\", generate_randaom_password(16))"
   ]
  }
 ],
 "metadata": {
  "kernelspec": {
   "display_name": "dee_venv",
   "language": "python",
   "name": "python3"
  },
  "language_info": {
   "codemirror_mode": {
    "name": "ipython",
    "version": 3
   },
   "file_extension": ".py",
   "mimetype": "text/x-python",
   "name": "python",
   "nbconvert_exporter": "python",
   "pygments_lexer": "ipython3",
   "version": "3.12.3"
  }
 },
 "nbformat": 4,
 "nbformat_minor": 2
}
