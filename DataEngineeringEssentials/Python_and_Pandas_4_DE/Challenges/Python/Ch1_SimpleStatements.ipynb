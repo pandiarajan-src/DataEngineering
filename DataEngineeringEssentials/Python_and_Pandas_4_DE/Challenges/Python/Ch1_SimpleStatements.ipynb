{
 "cells": [
  {
   "cell_type": "markdown",
   "metadata": {},
   "source": [
    "# Challenge from Simple Statements\n",
    "\n",
    "1. Add a raise statement to throw a custom exception when invalid parameters are passed to a function\n",
    "2. Use try/except blocks to catch errors and handle them gracefully\n",
    "3. Validate numeric inputs to functions with assert statements\n",
    "4. Research built-in Python exceptions and choose ones relevant for a program you are writing\n",
    "5. Handle possible exceptions from importing external libraries or modules"
   ]
  },
  {
   "cell_type": "code",
   "execution_count": 20,
   "metadata": {},
   "outputs": [
    {
     "name": "stdout",
     "output_type": "stream",
     "text": [
      "Pandi caught Assertion error exception: Second argument must be a number\n",
      "Pandi's Custom Exception: Cannot divide by zero\n"
     ]
    }
   ],
   "source": [
    "# Add a raise statement to throw a custom exception when invalid parameters are passed to a function\n",
    "# Use try/except blocks to catch errors and handle them gracefully\n",
    "# Validate numeric inputs to functions with assert statements\n",
    "# Research built-in Python exceptions and choose ones relevant for a program you are writing\n",
    "\n",
    "\n",
    "class PandisCustomException(Exception):\n",
    "    \"\"\"\n",
    "    Custom exception class to be raised when invalid operation is performed\n",
    "    \"\"\"\n",
    "    def __init__(self, *args: object) -> None:\n",
    "        super().__init__(*args)\n",
    "\n",
    "    def __str__(self) -> str:\n",
    "        return f\"Pandi's Custom Exception: {self.message}\"\n",
    "    \n",
    "    def __init__(self, message: str) -> None:\n",
    "        self.message = message\n",
    "\n",
    "def divide_by_zero(x, y):\n",
    "    \"\"\"ArithmeticError: integer division or modulo by zero\"\"\"\n",
    "    assert isinstance(x, (int, float)), \"First argument must be a number\"\n",
    "    assert isinstance(y, (int, float)), \"Second argument must be a number\"\n",
    "\n",
    "    if y == 0:\n",
    "        raise PandisCustomException(\"Cannot divide by zero\")\n",
    "    return x / y\n",
    "\n",
    "if __name__ == \"__main__\":\n",
    "    \"\"\"Catch the exception and print the message\"\"\"\n",
    "    try:\n",
    "        ip = input(\"Enter an integer to be divised: \")\n",
    "        divide_by_zero(10, ip)\n",
    "    except AssertionError as ex:\n",
    "        print(f\"Pandi caught Assertion error exception: {ex}\")\n",
    "    except ArithmeticError as ex:\n",
    "        print(f\"Pandi caught Arithmetic error exception: {ex}\") \n",
    "    except TypeError as ex:\n",
    "        print(f\"Pandi caught Type error exception: {ex}\") \n",
    "    except (ValueError, Exception) as ex:\n",
    "        print(ex)\n",
    "\n",
    "    try:\n",
    "        divide_by_zero(10, 0)\n",
    "    except (ZeroDivisionError, PandisCustomException) as ex:\n",
    "        print(ex)\n",
    "\n"
   ]
  },
  {
   "cell_type": "code",
   "execution_count": 6,
   "metadata": {},
   "outputs": [
    {
     "name": "stdout",
     "output_type": "stream",
     "text": [
      "No module named 'some_non_existential_module'\n",
      "========================================\n",
      "name 'some_non_existential_module' is not defined\n",
      "========================================\n",
      "np is not None, hence executing some code for numpy\n",
      "Output for np : summation of arr and arr1: [11 22 33]\n"
     ]
    }
   ],
   "source": [
    "# Handle possible exceptions from importing external libraries or modules\n",
    "\n",
    "try:\n",
    "    import some_non_existential_module\n",
    "except (ModuleNotFoundError, ImportError) as ex:\n",
    "    print(ex)\n",
    "    print(\"=\" * 40)\n",
    "\n",
    "try:\n",
    "    import numpy as np\n",
    "except (ModuleNotFoundError, ImportError) as ex:\n",
    "    print(ex)\n",
    "\n",
    "\"\"\"NameError: name 'some_non_existential_module' is not defined\"\"\"\n",
    "try:\n",
    "    if some_non_existential_module:\n",
    "        \"\"\"There should be some code associated with snem\"\"\"\n",
    "        pass\n",
    "    else:\n",
    "        print(\"snem is None\")\n",
    "except NameError as ex:\n",
    "    print(ex)\n",
    "    print(\"=\" * 40)\n",
    "\n",
    "\"\"\"np is defined, so execute somecode related with it.\"\"\"\n",
    "if np:\n",
    "    print(\"np is not None, hence executing some code for numpy\")\n",
    "    arr = np.array([1, 2, 3])\n",
    "    arr1 = np.array([10, 20, 30])\n",
    "    print(f\"Output for np : summation of arr and arr1: {arr + arr1}\")\n",
    "else:\n",
    "    print(\"np is None\")"
   ]
  }
 ],
 "metadata": {
  "kernelspec": {
   "display_name": "dee_venv",
   "language": "python",
   "name": "python3"
  },
  "language_info": {
   "codemirror_mode": {
    "name": "ipython",
    "version": 3
   },
   "file_extension": ".py",
   "mimetype": "text/x-python",
   "name": "python",
   "nbconvert_exporter": "python",
   "pygments_lexer": "ipython3",
   "version": "3.12.3"
  }
 },
 "nbformat": 4,
 "nbformat_minor": 2
}
