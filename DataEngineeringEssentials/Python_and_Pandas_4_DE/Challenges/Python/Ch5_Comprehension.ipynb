{
 "cells": [
  {
   "cell_type": "markdown",
   "metadata": {},
   "source": [
    "# Challenge Excercises\n",
    "\n",
    "1. Convert an existing for loop that produces a list into a list comprehension\n",
    "2. Create a generator function to produce the Fibonacci sequence\n",
    "3. Determine if a built-in Python sequence like a string is an iterator or iterable\n",
    "4. Print the first 5 items from a generator without saving the full sequence\n",
    "5. Write list comprehension to filter odd numbers from a list"
   ]
  },
  {
   "cell_type": "code",
   "execution_count": 2,
   "metadata": {},
   "outputs": [
    {
     "name": "stdout",
     "output_type": "stream",
     "text": [
      "original random list: [87 37 99 98 83 46 92 25 14 92 78 84 50 75 21 37 78 64 64  4]\n",
      "list of even numbers: [98, 46, 92, 14, 92, 78, 84, 50, 78, 64, 64, 4]\n",
      "list of odd numbers: [87, 37, 99, 83, 25, 75, 21, 37]\n"
     ]
    }
   ],
   "source": [
    "# Convert an existing for loop that produces a list into a list comprehension\n",
    "\n",
    "import numpy as np\n",
    "\n",
    "arr = np.random.randint(0, 100, 20)\n",
    "\n",
    "even_lst = list([x for x in arr if x%2 == 0])\n",
    "odd_lst = list([x for x in arr if x%2 == 1])\n",
    "\n",
    "print(f\"original random list: {arr}\")\n",
    "print(f\"list of even numbers: {even_lst}\")\n",
    "print(f\"list of odd numbers: {odd_lst}\")\n"
   ]
  },
  {
   "cell_type": "code",
   "execution_count": 3,
   "metadata": {},
   "outputs": [
    {
     "name": "stdout",
     "output_type": "stream",
     "text": [
      "0\n",
      "1\n",
      "1\n",
      "2\n",
      "3\n",
      "5\n",
      "8\n",
      "13\n",
      "21\n",
      "34\n"
     ]
    }
   ],
   "source": [
    "# Create a generator function to produce the Fibonacci sequence\n",
    "\n",
    "def fib(n):\n",
    "    a = 0\n",
    "    b = 1\n",
    "    for i in range(n):\n",
    "        yield a\n",
    "        a, b = b, a+b\n",
    "\n",
    "n = 10\n",
    "for i in fib(n):\n",
    "    print(i)\n"
   ]
  },
  {
   "cell_type": "code",
   "execution_count": 4,
   "metadata": {},
   "outputs": [
    {
     "name": "stdout",
     "output_type": "stream",
     "text": [
      "True\n",
      "False\n"
     ]
    }
   ],
   "source": [
    "# Determine if a built-in Python sequence like a string is an iterator or iterable\n",
    "\n",
    "from collections.abc import Iterable, Iterator\n",
    "\n",
    "print(isinstance(\"hello\", Iterable))\n",
    "print(isinstance(\"hello\", Iterator))\n"
   ]
  },
  {
   "cell_type": "code",
   "execution_count": 5,
   "metadata": {},
   "outputs": [
    {
     "name": "stdout",
     "output_type": "stream",
     "text": [
      "0\n",
      "1\n",
      "2\n",
      "3\n",
      "4\n"
     ]
    }
   ],
   "source": [
    "# Print the first 5 items from a generator without saving the full sequence\n",
    "\n",
    "def first_five(n):\n",
    "    for i in range(n):\n",
    "        yield i\n",
    "\n",
    "n = 5\n",
    "for i in first_five(n):\n",
    "    print(i)"
   ]
  },
  {
   "cell_type": "code",
   "execution_count": 6,
   "metadata": {},
   "outputs": [
    {
     "name": "stdout",
     "output_type": "stream",
     "text": [
      "original random array: [ 6 88 56 52 23 40 78 14 82 73 47 58 25  9 12 76 43 54 72 41]\n",
      "list of odd numbers: [23, 73, 47, 25, 9, 43, 41]\n"
     ]
    }
   ],
   "source": [
    "# Write list comprehension to filter odd numbers from a list\n",
    "\n",
    "import numpy as np\n",
    "\n",
    "arr = np.random.randint(0, 100, 20)\n",
    "\n",
    "odd_numbers = list(filter(lambda x: x%2 == 1, arr))\n",
    "print(f\"original random array: {arr}\")\n",
    "print(f\"list of odd numbers: {odd_numbers}\")"
   ]
  }
 ],
 "metadata": {
  "kernelspec": {
   "display_name": "dee_venv",
   "language": "python",
   "name": "python3"
  },
  "language_info": {
   "codemirror_mode": {
    "name": "ipython",
    "version": 3
   },
   "file_extension": ".py",
   "mimetype": "text/x-python",
   "name": "python",
   "nbconvert_exporter": "python",
   "pygments_lexer": "ipython3",
   "version": "3.12.3"
  }
 },
 "nbformat": 4,
 "nbformat_minor": 2
}
